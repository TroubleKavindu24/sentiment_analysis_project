{
 "cells": [
  {
   "cell_type": "code",
   "execution_count": 148,
   "id": "f5282dd3-6db3-4f74-b00d-7dbe2f6aa416",
   "metadata": {},
   "outputs": [],
   "source": [
    "import numpy as np\n",
    "import pandas as pd\n",
    "import matplotlib.pyplot as plt"
   ]
  },
  {
   "cell_type": "code",
   "execution_count": 149,
   "id": "622bae84-96a0-4990-ac08-f7bb0bcf8281",
   "metadata": {},
   "outputs": [],
   "source": [
    "data = pd.read_csv('../artifacts/sentiment_analysis.csv')"
   ]
  },
  {
   "cell_type": "code",
   "execution_count": 150,
   "id": "806950b0-8505-4f8b-8081-38c016ecfc14",
   "metadata": {},
   "outputs": [
    {
     "data": {
      "text/html": [
       "<div>\n",
       "<style scoped>\n",
       "    .dataframe tbody tr th:only-of-type {\n",
       "        vertical-align: middle;\n",
       "    }\n",
       "\n",
       "    .dataframe tbody tr th {\n",
       "        vertical-align: top;\n",
       "    }\n",
       "\n",
       "    .dataframe thead th {\n",
       "        text-align: right;\n",
       "    }\n",
       "</style>\n",
       "<table border=\"1\" class=\"dataframe\">\n",
       "  <thead>\n",
       "    <tr style=\"text-align: right;\">\n",
       "      <th></th>\n",
       "      <th>id</th>\n",
       "      <th>label</th>\n",
       "      <th>tweet</th>\n",
       "    </tr>\n",
       "  </thead>\n",
       "  <tbody>\n",
       "    <tr>\n",
       "      <th>0</th>\n",
       "      <td>1</td>\n",
       "      <td>0</td>\n",
       "      <td>#fingerprint #Pregnancy Test https://goo.gl/h1...</td>\n",
       "    </tr>\n",
       "    <tr>\n",
       "      <th>1</th>\n",
       "      <td>2</td>\n",
       "      <td>0</td>\n",
       "      <td>Finally a transparant silicon case ^^ Thanks t...</td>\n",
       "    </tr>\n",
       "    <tr>\n",
       "      <th>2</th>\n",
       "      <td>3</td>\n",
       "      <td>0</td>\n",
       "      <td>We love this! Would you go? #talk #makememorie...</td>\n",
       "    </tr>\n",
       "    <tr>\n",
       "      <th>3</th>\n",
       "      <td>4</td>\n",
       "      <td>0</td>\n",
       "      <td>I'm wired I know I'm George I was made that wa...</td>\n",
       "    </tr>\n",
       "    <tr>\n",
       "      <th>4</th>\n",
       "      <td>5</td>\n",
       "      <td>1</td>\n",
       "      <td>What amazing service! Apple won't even talk to...</td>\n",
       "    </tr>\n",
       "  </tbody>\n",
       "</table>\n",
       "</div>"
      ],
      "text/plain": [
       "   id  label                                              tweet\n",
       "0   1      0  #fingerprint #Pregnancy Test https://goo.gl/h1...\n",
       "1   2      0  Finally a transparant silicon case ^^ Thanks t...\n",
       "2   3      0  We love this! Would you go? #talk #makememorie...\n",
       "3   4      0  I'm wired I know I'm George I was made that wa...\n",
       "4   5      1  What amazing service! Apple won't even talk to..."
      ]
     },
     "execution_count": 150,
     "metadata": {},
     "output_type": "execute_result"
    }
   ],
   "source": [
    "data.head()"
   ]
  },
  {
   "cell_type": "code",
   "execution_count": 151,
   "id": "7e821d64-5bbd-4c01-a8f8-e318681f6e28",
   "metadata": {},
   "outputs": [
    {
     "data": {
      "text/plain": [
       "(7920, 3)"
      ]
     },
     "execution_count": 151,
     "metadata": {},
     "output_type": "execute_result"
    }
   ],
   "source": [
    "data.shape"
   ]
  },
  {
   "cell_type": "code",
   "execution_count": 152,
   "id": "49f31dfd-bd22-41f1-b224-a04666f4074a",
   "metadata": {},
   "outputs": [
    {
     "data": {
      "text/plain": [
       "np.int64(0)"
      ]
     },
     "execution_count": 152,
     "metadata": {},
     "output_type": "execute_result"
    }
   ],
   "source": [
    "data.duplicated().sum()"
   ]
  },
  {
   "cell_type": "code",
   "execution_count": 153,
   "id": "b09944a3-7857-42fa-8e67-63b22025c3b0",
   "metadata": {},
   "outputs": [
    {
     "data": {
      "text/plain": [
       "id       0\n",
       "label    0\n",
       "tweet    0\n",
       "dtype: int64"
      ]
     },
     "execution_count": 153,
     "metadata": {},
     "output_type": "execute_result"
    }
   ],
   "source": [
    "data.isnull().sum()"
   ]
  },
  {
   "cell_type": "code",
   "execution_count": 154,
   "id": "bda8bcda-5c66-428e-afdd-9503d7e2df3a",
   "metadata": {},
   "outputs": [],
   "source": [
    " import re\n",
    "import string"
   ]
  },
  {
   "cell_type": "code",
   "execution_count": 155,
   "id": "c1f07d3c-3434-4fc1-97ce-ed61e7fa73ea",
   "metadata": {},
   "outputs": [],
   "source": [
    "data[\"tweet\"] = data[\"tweet\"].apply(lambda x: \"\".join(x.lower() for x in x.split()))"
   ]
  },
  {
   "cell_type": "code",
   "execution_count": 156,
   "id": "0d567f4f-fb0a-4a91-9648-f6aa6e5b56b6",
   "metadata": {},
   "outputs": [],
   "source": [
    "data[\"tweet\"] = data[\"tweet\"].apply(lambda x: \" \".join(x.lower() for x in x.split()))"
   ]
  },
  {
   "cell_type": "code",
   "execution_count": 157,
   "id": "1e0464c1-bf4d-45f2-b64a-db35cb459810",
   "metadata": {},
   "outputs": [
    {
     "data": {
      "text/plain": [
       "0    #fingerprint#pregnancytesthttps://goo.gl/h1mfq...\n",
       "1    finallyatransparantsiliconcase^^thankstomyuncl...\n",
       "2    welovethis!wouldyougo?#talk#makememories#unplu...\n",
       "3    i'mwirediknowi'mgeorgeiwasmadethatway;)#iphone...\n",
       "4    whatamazingservice!applewon'teventalktomeabout...\n",
       "Name: tweet, dtype: object"
      ]
     },
     "execution_count": 157,
     "metadata": {},
     "output_type": "execute_result"
    }
   ],
   "source": [
    "data[\"tweet\"].head(5)"
   ]
  },
  {
   "cell_type": "markdown",
   "id": "47f235b0-50a7-4855-9702-6784d22d533a",
   "metadata": {},
   "source": [
    "remove links"
   ]
  },
  {
   "cell_type": "code",
   "execution_count": 158,
   "id": "5d2717e6-6fab-48c0-966e-d0a6756ebd89",
   "metadata": {},
   "outputs": [],
   "source": [
    "data[\"tweet\"] = data[\"tweet\"].apply(lambda x: \" \".join(re.sub(r'^https?:\\/\\/.*[\\r\\n]*', '', x, flags=re.MULTILINE) for x in x.split()))"
   ]
  },
  {
   "cell_type": "code",
   "execution_count": 159,
   "id": "13105e94-17ac-420b-b587-26085929a8c7",
   "metadata": {},
   "outputs": [
    {
     "data": {
      "text/plain": [
       "0    #fingerprint#pregnancytesthttps://goo.gl/h1mfq...\n",
       "1    finallyatransparantsiliconcase^^thankstomyuncl...\n",
       "2    welovethis!wouldyougo?#talk#makememories#unplu...\n",
       "3    i'mwirediknowi'mgeorgeiwasmadethatway;)#iphone...\n",
       "4    whatamazingservice!applewon'teventalktomeabout...\n",
       "Name: tweet, dtype: object"
      ]
     },
     "execution_count": 159,
     "metadata": {},
     "output_type": "execute_result"
    }
   ],
   "source": [
    "data[\"tweet\"].head(5)"
   ]
  },
  {
   "cell_type": "markdown",
   "id": "2d4057e6-4ccd-4475-ae4b-b4e66ca0717b",
   "metadata": {},
   "source": [
    "  remove punctuations"
   ]
  },
  {
   "cell_type": "code",
   "execution_count": 160,
   "id": "72bf7d4a-5c11-4374-bd29-a843fb639932",
   "metadata": {},
   "outputs": [],
   "source": [
    "def remove_punctuations(text):\n",
    "    for punctuation in string.punctuation:\n",
    "        text = text.replace(punctuation, '')\n",
    "    return text\n",
    "\n",
    "data[\"tweet\"] = data[\"tweet\"].apply(remove_punctuations)"
   ]
  },
  {
   "cell_type": "code",
   "execution_count": 161,
   "id": "a0be0c18-c9e7-4519-b888-c55da8d77452",
   "metadata": {},
   "outputs": [],
   "source": [
    "data[\"tweet\"] = data['tweet'].str.replace('\\\\d+', '', regex=True)"
   ]
  },
  {
   "cell_type": "code",
   "execution_count": 162,
   "id": "d40dc901-e683-41e6-b90f-9727c85c0c42",
   "metadata": {},
   "outputs": [
    {
     "data": {
      "text/plain": [
       "7910    perfectmatchinstagoodapplewatchredinstagramiph...\n",
       "7911    iamcompletelyinlovewiththenewiphoneemojisiphon...\n",
       "7912    tuneinturnondropoutgtdinoneapphttpbitlycebfmob...\n",
       "7913    oksomygalaxycrashedafteronedaynowihavetowaitti...\n",
       "7914    gainfollowersrtthismustfollowmeifollowbackfoll...\n",
       "7915    liveoutloudlolliveoutloudselfiesmilesonymusich...\n",
       "7916    wewouldliketowishyouanamazingdaymakeeveryminut...\n",
       "7917    helpingmylovelyyearoldneighborwithheripadthism...\n",
       "7918    finallygotmysmartpocketwifistayconnectedanytim...\n",
       "7919    applebarcelonaapplestorebcnbarcelonatravelipho...\n",
       "Name: tweet, dtype: object"
      ]
     },
     "execution_count": 162,
     "metadata": {},
     "output_type": "execute_result"
    }
   ],
   "source": [
    "data[\"tweet\"].tail(10)"
   ]
  },
  {
   "cell_type": "markdown",
   "id": "76dbf12a-97dd-4b47-b83f-325b2f6363ac",
   "metadata": {},
   "source": [
    "remove stopwords"
   ]
  },
  {
   "cell_type": "code",
   "execution_count": 163,
   "id": "fca3803f-b99b-4eca-8fb0-f159d54188bc",
   "metadata": {},
   "outputs": [
    {
     "name": "stdout",
     "output_type": "stream",
     "text": [
      "Requirement already satisfied: nltk in /Users/kavindu/Desktop/sentiment_analysis_project/env/lib/python3.12/site-packages (3.9.1)\n",
      "Requirement already satisfied: click in /Users/kavindu/Desktop/sentiment_analysis_project/env/lib/python3.12/site-packages (from nltk) (8.1.7)\n",
      "Requirement already satisfied: joblib in /Users/kavindu/Desktop/sentiment_analysis_project/env/lib/python3.12/site-packages (from nltk) (1.4.2)\n",
      "Requirement already satisfied: regex>=2021.8.3 in /Users/kavindu/Desktop/sentiment_analysis_project/env/lib/python3.12/site-packages (from nltk) (2024.11.6)\n",
      "Requirement already satisfied: tqdm in /Users/kavindu/Desktop/sentiment_analysis_project/env/lib/python3.12/site-packages (from nltk) (4.67.1)\n",
      "Note: you may need to restart the kernel to use updated packages.\n"
     ]
    }
   ],
   "source": [
    "pip install nltk"
   ]
  },
  {
   "cell_type": "code",
   "execution_count": 164,
   "id": "af9ef46e-d8c6-4acc-88c7-d9e433b01733",
   "metadata": {},
   "outputs": [],
   "source": [
    "import nltk"
   ]
  },
  {
   "cell_type": "code",
   "execution_count": 165,
   "id": "baaaa4bf-d864-4609-ab51-ad2726c53826",
   "metadata": {},
   "outputs": [
    {
     "name": "stderr",
     "output_type": "stream",
     "text": [
      "[nltk_data] Downloading package stopwords to ../static/model...\n",
      "[nltk_data]   Unzipping corpora/stopwords.zip.\n"
     ]
    },
    {
     "data": {
      "text/plain": [
       "True"
      ]
     },
     "execution_count": 165,
     "metadata": {},
     "output_type": "execute_result"
    }
   ],
   "source": [
    "nltk.download('stopwords', download_dir='../static/model')"
   ]
  },
  {
   "cell_type": "code",
   "execution_count": 166,
   "id": "cfd25641-aea5-4046-9242-5b084e37be3e",
   "metadata": {},
   "outputs": [],
   "source": [
    "with open('../static/model/corpora/stopwords/english', 'r') as file:\n",
    "    sw = file.read().splitlines()"
   ]
  },
  {
   "cell_type": "code",
   "execution_count": 167,
   "id": "c68817ca-490b-4871-8d5c-2b315b1da49a",
   "metadata": {},
   "outputs": [
    {
     "data": {
      "text/plain": [
       "['i',\n",
       " 'me',\n",
       " 'my',\n",
       " 'myself',\n",
       " 'we',\n",
       " 'our',\n",
       " 'ours',\n",
       " 'ourselves',\n",
       " 'you',\n",
       " \"you're\",\n",
       " \"you've\",\n",
       " \"you'll\",\n",
       " \"you'd\",\n",
       " 'your',\n",
       " 'yours',\n",
       " 'yourself',\n",
       " 'yourselves',\n",
       " 'he',\n",
       " 'him',\n",
       " 'his',\n",
       " 'himself',\n",
       " 'she',\n",
       " \"she's\",\n",
       " 'her',\n",
       " 'hers',\n",
       " 'herself',\n",
       " 'it',\n",
       " \"it's\",\n",
       " 'its',\n",
       " 'itself',\n",
       " 'they',\n",
       " 'them',\n",
       " 'their',\n",
       " 'theirs',\n",
       " 'themselves',\n",
       " 'what',\n",
       " 'which',\n",
       " 'who',\n",
       " 'whom',\n",
       " 'this',\n",
       " 'that',\n",
       " \"that'll\",\n",
       " 'these',\n",
       " 'those',\n",
       " 'am',\n",
       " 'is',\n",
       " 'are',\n",
       " 'was',\n",
       " 'were',\n",
       " 'be',\n",
       " 'been',\n",
       " 'being',\n",
       " 'have',\n",
       " 'has',\n",
       " 'had',\n",
       " 'having',\n",
       " 'do',\n",
       " 'does',\n",
       " 'did',\n",
       " 'doing',\n",
       " 'a',\n",
       " 'an',\n",
       " 'the',\n",
       " 'and',\n",
       " 'but',\n",
       " 'if',\n",
       " 'or',\n",
       " 'because',\n",
       " 'as',\n",
       " 'until',\n",
       " 'while',\n",
       " 'of',\n",
       " 'at',\n",
       " 'by',\n",
       " 'for',\n",
       " 'with',\n",
       " 'about',\n",
       " 'against',\n",
       " 'between',\n",
       " 'into',\n",
       " 'through',\n",
       " 'during',\n",
       " 'before',\n",
       " 'after',\n",
       " 'above',\n",
       " 'below',\n",
       " 'to',\n",
       " 'from',\n",
       " 'up',\n",
       " 'down',\n",
       " 'in',\n",
       " 'out',\n",
       " 'on',\n",
       " 'off',\n",
       " 'over',\n",
       " 'under',\n",
       " 'again',\n",
       " 'further',\n",
       " 'then',\n",
       " 'once',\n",
       " 'here',\n",
       " 'there',\n",
       " 'when',\n",
       " 'where',\n",
       " 'why',\n",
       " 'how',\n",
       " 'all',\n",
       " 'any',\n",
       " 'both',\n",
       " 'each',\n",
       " 'few',\n",
       " 'more',\n",
       " 'most',\n",
       " 'other',\n",
       " 'some',\n",
       " 'such',\n",
       " 'no',\n",
       " 'nor',\n",
       " 'not',\n",
       " 'only',\n",
       " 'own',\n",
       " 'same',\n",
       " 'so',\n",
       " 'than',\n",
       " 'too',\n",
       " 'very',\n",
       " 's',\n",
       " 't',\n",
       " 'can',\n",
       " 'will',\n",
       " 'just',\n",
       " 'don',\n",
       " \"don't\",\n",
       " 'should',\n",
       " \"should've\",\n",
       " 'now',\n",
       " 'd',\n",
       " 'll',\n",
       " 'm',\n",
       " 'o',\n",
       " 're',\n",
       " 've',\n",
       " 'y',\n",
       " 'ain',\n",
       " 'aren',\n",
       " \"aren't\",\n",
       " 'couldn',\n",
       " \"couldn't\",\n",
       " 'didn',\n",
       " \"didn't\",\n",
       " 'doesn',\n",
       " \"doesn't\",\n",
       " 'hadn',\n",
       " \"hadn't\",\n",
       " 'hasn',\n",
       " \"hasn't\",\n",
       " 'haven',\n",
       " \"haven't\",\n",
       " 'isn',\n",
       " \"isn't\",\n",
       " 'ma',\n",
       " 'mightn',\n",
       " \"mightn't\",\n",
       " 'mustn',\n",
       " \"mustn't\",\n",
       " 'needn',\n",
       " \"needn't\",\n",
       " 'shan',\n",
       " \"shan't\",\n",
       " 'shouldn',\n",
       " \"shouldn't\",\n",
       " 'wasn',\n",
       " \"wasn't\",\n",
       " 'weren',\n",
       " \"weren't\",\n",
       " 'won',\n",
       " \"won't\",\n",
       " 'wouldn',\n",
       " \"wouldn't\"]"
      ]
     },
     "execution_count": 167,
     "metadata": {},
     "output_type": "execute_result"
    }
   ],
   "source": [
    "sw"
   ]
  },
  {
   "cell_type": "code",
   "execution_count": 168,
   "id": "205da586-0e6a-4600-bf62-24e1129648fc",
   "metadata": {},
   "outputs": [],
   "source": [
    "data[\"tweet\"] = data[\"tweet\"].apply(lambda x: \" \".join(x for x in x.split() if x not in sw))"
   ]
  },
  {
   "cell_type": "code",
   "execution_count": 169,
   "id": "325cdb68-8540-4005-98ab-df8b782ed7f3",
   "metadata": {},
   "outputs": [
    {
     "data": {
      "text/plain": [
       "0    fingerprintpregnancytesthttpsgooglhmfqvandroid...\n",
       "1    finallyatransparantsiliconcasethankstomyuncley...\n",
       "2    welovethiswouldyougotalkmakememoriesunplugrela...\n",
       "3    imwirediknowimgeorgeiwasmadethatwayiphonecuted...\n",
       "4    whatamazingserviceapplewonteventalktomeaboutaq...\n",
       "Name: tweet, dtype: object"
      ]
     },
     "execution_count": 169,
     "metadata": {},
     "output_type": "execute_result"
    }
   ],
   "source": [
    "data[\"tweet\"].head()"
   ]
  },
  {
   "cell_type": "code",
   "execution_count": 170,
   "id": "fb0df6e4-ea35-4341-8fee-9992d1be4c70",
   "metadata": {},
   "outputs": [],
   "source": [
    "from nltk.stem import PorterStemmer\n",
    "ps = PorterStemmer()"
   ]
  },
  {
   "cell_type": "code",
   "execution_count": 171,
   "id": "0c8eb0ff-24a0-4753-b425-ce7bd36da532",
   "metadata": {},
   "outputs": [
    {
     "data": {
      "text/plain": [
       "0    fingerprintpregnancytesthttpsgooglhmfqvandroid...\n",
       "1    finallyatransparantsiliconcasethankstomyuncley...\n",
       "2    welovethiswouldyougotalkmakememoriesunplugrela...\n",
       "3    imwirediknowimgeorgeiwasmadethatwayiphonecuted...\n",
       "4    whatamazingserviceapplewonteventalktomeaboutaq...\n",
       "Name: tweet, dtype: object"
      ]
     },
     "execution_count": 171,
     "metadata": {},
     "output_type": "execute_result"
    }
   ],
   "source": [
    "data[\"tweet\"].head()"
   ]
  },
  {
   "cell_type": "code",
   "execution_count": 172,
   "id": "4b2e2ff1-6308-40e1-9fbe-c988c97525c4",
   "metadata": {},
   "outputs": [
    {
     "data": {
      "text/html": [
       "<div>\n",
       "<style scoped>\n",
       "    .dataframe tbody tr th:only-of-type {\n",
       "        vertical-align: middle;\n",
       "    }\n",
       "\n",
       "    .dataframe tbody tr th {\n",
       "        vertical-align: top;\n",
       "    }\n",
       "\n",
       "    .dataframe thead th {\n",
       "        text-align: right;\n",
       "    }\n",
       "</style>\n",
       "<table border=\"1\" class=\"dataframe\">\n",
       "  <thead>\n",
       "    <tr style=\"text-align: right;\">\n",
       "      <th></th>\n",
       "      <th>id</th>\n",
       "      <th>label</th>\n",
       "      <th>tweet</th>\n",
       "    </tr>\n",
       "  </thead>\n",
       "  <tbody>\n",
       "    <tr>\n",
       "      <th>0</th>\n",
       "      <td>1</td>\n",
       "      <td>0</td>\n",
       "      <td>fingerprintpregnancytesthttpsgooglhmfqvandroid...</td>\n",
       "    </tr>\n",
       "    <tr>\n",
       "      <th>1</th>\n",
       "      <td>2</td>\n",
       "      <td>0</td>\n",
       "      <td>finallyatransparantsiliconcasethankstomyuncley...</td>\n",
       "    </tr>\n",
       "    <tr>\n",
       "      <th>2</th>\n",
       "      <td>3</td>\n",
       "      <td>0</td>\n",
       "      <td>welovethiswouldyougotalkmakememoriesunplugrela...</td>\n",
       "    </tr>\n",
       "    <tr>\n",
       "      <th>3</th>\n",
       "      <td>4</td>\n",
       "      <td>0</td>\n",
       "      <td>imwirediknowimgeorgeiwasmadethatwayiphonecuted...</td>\n",
       "    </tr>\n",
       "    <tr>\n",
       "      <th>4</th>\n",
       "      <td>5</td>\n",
       "      <td>1</td>\n",
       "      <td>whatamazingserviceapplewonteventalktomeaboutaq...</td>\n",
       "    </tr>\n",
       "    <tr>\n",
       "      <th>...</th>\n",
       "      <td>...</td>\n",
       "      <td>...</td>\n",
       "      <td>...</td>\n",
       "    </tr>\n",
       "    <tr>\n",
       "      <th>7915</th>\n",
       "      <td>7916</td>\n",
       "      <td>0</td>\n",
       "      <td>liveoutloudlolliveoutloudselfiesmilesonymusich...</td>\n",
       "    </tr>\n",
       "    <tr>\n",
       "      <th>7916</th>\n",
       "      <td>7917</td>\n",
       "      <td>0</td>\n",
       "      <td>wewouldliketowishyouanamazingdaymakeeveryminut...</td>\n",
       "    </tr>\n",
       "    <tr>\n",
       "      <th>7917</th>\n",
       "      <td>7918</td>\n",
       "      <td>0</td>\n",
       "      <td>helpingmylovelyyearoldneighborwithheripadthism...</td>\n",
       "    </tr>\n",
       "    <tr>\n",
       "      <th>7918</th>\n",
       "      <td>7919</td>\n",
       "      <td>0</td>\n",
       "      <td>finallygotmysmartpocketwifistayconnectedanytim...</td>\n",
       "    </tr>\n",
       "    <tr>\n",
       "      <th>7919</th>\n",
       "      <td>7920</td>\n",
       "      <td>0</td>\n",
       "      <td>applebarcelonaapplestorebcnbarcelonatravelipho...</td>\n",
       "    </tr>\n",
       "  </tbody>\n",
       "</table>\n",
       "<p>7920 rows × 3 columns</p>\n",
       "</div>"
      ],
      "text/plain": [
       "        id  label                                              tweet\n",
       "0        1      0  fingerprintpregnancytesthttpsgooglhmfqvandroid...\n",
       "1        2      0  finallyatransparantsiliconcasethankstomyuncley...\n",
       "2        3      0  welovethiswouldyougotalkmakememoriesunplugrela...\n",
       "3        4      0  imwirediknowimgeorgeiwasmadethatwayiphonecuted...\n",
       "4        5      1  whatamazingserviceapplewonteventalktomeaboutaq...\n",
       "...    ...    ...                                                ...\n",
       "7915  7916      0  liveoutloudlolliveoutloudselfiesmilesonymusich...\n",
       "7916  7917      0  wewouldliketowishyouanamazingdaymakeeveryminut...\n",
       "7917  7918      0  helpingmylovelyyearoldneighborwithheripadthism...\n",
       "7918  7919      0  finallygotmysmartpocketwifistayconnectedanytim...\n",
       "7919  7920      0  applebarcelonaapplestorebcnbarcelonatravelipho...\n",
       "\n",
       "[7920 rows x 3 columns]"
      ]
     },
     "execution_count": 172,
     "metadata": {},
     "output_type": "execute_result"
    }
   ],
   "source": [
    "data"
   ]
  },
  {
   "cell_type": "markdown",
   "id": "9021da73-78bf-4f04-b240-0f762e46bf0e",
   "metadata": {},
   "source": [
    "Building vacabulary"
   ]
  },
  {
   "cell_type": "code",
   "execution_count": 173,
   "id": "ae6be29a-8aec-4b43-a7fd-ff027fee695b",
   "metadata": {},
   "outputs": [],
   "source": [
    "from collections import Counter\n",
    "vocab = Counter()"
   ]
  },
  {
   "cell_type": "code",
   "execution_count": 174,
   "id": "2d4b52d8-dc68-4b9d-8588-d492c42fa5f8",
   "metadata": {},
   "outputs": [
    {
     "data": {
      "text/plain": [
       "Counter()"
      ]
     },
     "execution_count": 174,
     "metadata": {},
     "output_type": "execute_result"
    }
   ],
   "source": [
    "vocab"
   ]
  },
  {
   "cell_type": "code",
   "execution_count": 175,
   "id": "08880ad1-8ea6-4aa3-8091-f08e89a4c5e6",
   "metadata": {},
   "outputs": [],
   "source": [
    "for sentence in data['tweet']:\n",
    "    vocab.update(sentence.split())"
   ]
  },
  {
   "cell_type": "code",
   "execution_count": 176,
   "id": "8838c9a6-dc02-4f6d-90ed-459f94da716e",
   "metadata": {},
   "outputs": [
    {
     "data": {
      "text/plain": [
       "7796"
      ]
     },
     "execution_count": 176,
     "metadata": {},
     "output_type": "execute_result"
    }
   ],
   "source": [
    "len(vocab)"
   ]
  },
  {
   "cell_type": "code",
   "execution_count": 177,
   "id": "e3209251-5c52-4600-9608-8bfc967ddf8b",
   "metadata": {},
   "outputs": [],
   "source": [
    "tokens = [key for key in vocab if vocab[key] > 10]"
   ]
  },
  {
   "cell_type": "code",
   "execution_count": 178,
   "id": "90dddeb4-f85d-4ebb-bfe2-af53fa1a579c",
   "metadata": {},
   "outputs": [
    {
     "data": {
      "text/plain": [
       "['wewouldliketowishyouanamazingdaymakeeveryminutecounttlstodayiphoneaccessoriesnewslifemayatam']"
      ]
     },
     "execution_count": 178,
     "metadata": {},
     "output_type": "execute_result"
    }
   ],
   "source": [
    "tokens"
   ]
  },
  {
   "cell_type": "code",
   "execution_count": 179,
   "id": "59240a8f-ff14-4ff5-9a76-95c42b2ebb90",
   "metadata": {},
   "outputs": [
    {
     "data": {
      "text/plain": [
       "1"
      ]
     },
     "execution_count": 179,
     "metadata": {},
     "output_type": "execute_result"
    }
   ],
   "source": [
    "len(tokens)"
   ]
  },
  {
   "cell_type": "code",
   "execution_count": 180,
   "id": "93d82e56-2b9a-4ad6-8ed0-171f2df65c27",
   "metadata": {},
   "outputs": [],
   "source": [
    "def save_vocabulary(lines, filename):\n",
    "    data = '\\n'.join(lines)\n",
    "    file = open(filename, 'w', encoding = \"utf-8\")\n",
    "    file.write(data)\n",
    "    file.close()\n",
    "\n",
    "save_vocabulary(tokens, '../static/model/vocabulary.txt')"
   ]
  },
  {
   "cell_type": "markdown",
   "id": "28379695-6e17-4c63-bfe3-b54dc5b7c4e9",
   "metadata": {},
   "source": [
    "###Devide data set"
   ]
  },
  {
   "cell_type": "code",
   "execution_count": 181,
   "id": "24ac6dd5-8439-4fe0-a5c4-c8a226ec285d",
   "metadata": {},
   "outputs": [],
   "source": [
    "x = data['tweet']\n",
    "y = data['label']"
   ]
  },
  {
   "cell_type": "code",
   "execution_count": 182,
   "id": "0aec5b76-a260-47e8-a7c5-b34278a0c42a",
   "metadata": {},
   "outputs": [
    {
     "data": {
      "text/plain": [
       "0       0\n",
       "1       0\n",
       "2       0\n",
       "3       0\n",
       "4       1\n",
       "       ..\n",
       "7915    0\n",
       "7916    0\n",
       "7917    0\n",
       "7918    0\n",
       "7919    0\n",
       "Name: label, Length: 7920, dtype: int64"
      ]
     },
     "execution_count": 182,
     "metadata": {},
     "output_type": "execute_result"
    }
   ],
   "source": [
    "y"
   ]
  },
  {
   "cell_type": "code",
   "execution_count": 183,
   "id": "392b852f-38e1-4a24-813b-98d24cae6712",
   "metadata": {},
   "outputs": [
    {
     "data": {
      "text/plain": [
       "0       fingerprintpregnancytesthttpsgooglhmfqvandroid...\n",
       "1       finallyatransparantsiliconcasethankstomyuncley...\n",
       "2       welovethiswouldyougotalkmakememoriesunplugrela...\n",
       "3       imwirediknowimgeorgeiwasmadethatwayiphonecuted...\n",
       "4       whatamazingserviceapplewonteventalktomeaboutaq...\n",
       "                              ...                        \n",
       "7915    liveoutloudlolliveoutloudselfiesmilesonymusich...\n",
       "7916    wewouldliketowishyouanamazingdaymakeeveryminut...\n",
       "7917    helpingmylovelyyearoldneighborwithheripadthism...\n",
       "7918    finallygotmysmartpocketwifistayconnectedanytim...\n",
       "7919    applebarcelonaapplestorebcnbarcelonatravelipho...\n",
       "Name: tweet, Length: 7920, dtype: object"
      ]
     },
     "execution_count": 183,
     "metadata": {},
     "output_type": "execute_result"
    }
   ],
   "source": [
    "x"
   ]
  },
  {
   "cell_type": "code",
   "execution_count": 184,
   "id": "101b5de1-0465-4cd9-8719-22e1a1be4c15",
   "metadata": {},
   "outputs": [
    {
     "name": "stdout",
     "output_type": "stream",
     "text": [
      "Requirement already satisfied: scikit-learn in /Users/kavindu/Desktop/sentiment_analysis_project/env/lib/python3.12/site-packages (1.6.0)\n",
      "Requirement already satisfied: numpy>=1.19.5 in /Users/kavindu/Desktop/sentiment_analysis_project/env/lib/python3.12/site-packages (from scikit-learn) (2.1.3)\n",
      "Requirement already satisfied: scipy>=1.6.0 in /Users/kavindu/Desktop/sentiment_analysis_project/env/lib/python3.12/site-packages (from scikit-learn) (1.14.1)\n",
      "Requirement already satisfied: joblib>=1.2.0 in /Users/kavindu/Desktop/sentiment_analysis_project/env/lib/python3.12/site-packages (from scikit-learn) (1.4.2)\n",
      "Requirement already satisfied: threadpoolctl>=3.1.0 in /Users/kavindu/Desktop/sentiment_analysis_project/env/lib/python3.12/site-packages (from scikit-learn) (3.5.0)\n",
      "Note: you may need to restart the kernel to use updated packages.\n"
     ]
    }
   ],
   "source": [
    "pip install scikit-learn "
   ]
  },
  {
   "cell_type": "code",
   "execution_count": 185,
   "id": "cc993e99-e057-4a09-9f2d-6d84ecf99115",
   "metadata": {},
   "outputs": [],
   "source": [
    "from sklearn.model_selection import train_test_split\n",
    "X_train, X_test, y_train, y_test  = train_test_split(x, y, test_size = 0.2)"
   ]
  },
  {
   "cell_type": "code",
   "execution_count": 186,
   "id": "48d1deef-1752-422c-8732-8c3662639936",
   "metadata": {},
   "outputs": [
    {
     "data": {
      "text/plain": [
       "(6336,)"
      ]
     },
     "execution_count": 186,
     "metadata": {},
     "output_type": "execute_result"
    }
   ],
   "source": [
    "X_train.shape"
   ]
  },
  {
   "cell_type": "code",
   "execution_count": 187,
   "id": "ae207c8f-8a91-4e62-80b0-745e524bdc0a",
   "metadata": {},
   "outputs": [
    {
     "data": {
      "text/plain": [
       "(1584,)"
      ]
     },
     "execution_count": 187,
     "metadata": {},
     "output_type": "execute_result"
    }
   ],
   "source": [
    "X_test.shape"
   ]
  },
  {
   "cell_type": "code",
   "execution_count": 188,
   "id": "a5abae8b-a6bc-4bd0-b9ea-fa95eb9d67db",
   "metadata": {},
   "outputs": [
    {
     "data": {
      "text/plain": [
       "1756    1\n",
       "6900    0\n",
       "3820    0\n",
       "3823    0\n",
       "5533    0\n",
       "       ..\n",
       "5067    0\n",
       "1043    0\n",
       "2863    0\n",
       "472     0\n",
       "7410    0\n",
       "Name: label, Length: 1584, dtype: int64"
      ]
     },
     "execution_count": 188,
     "metadata": {},
     "output_type": "execute_result"
    }
   ],
   "source": [
    "y_test"
   ]
  },
  {
   "cell_type": "code",
   "execution_count": 189,
   "id": "1d24cdb6-be19-400b-8a73-a286e0832bec",
   "metadata": {},
   "outputs": [
    {
     "data": {
      "text/plain": [
       "5953         omfgmyapplechargerthatapplesenttomewasbroken\n",
       "849     bighopetoallahpraylifehopesamsunginstagramface...\n",
       "1492    myipodcantconnecttoitunesmusicapparentlytodown...\n",
       "6605    photoinstagramdrunkjunkiefollowfollowmenightni...\n",
       "5115    amacisforwhenitsrainingonlyappleproductsbigtim...\n",
       "                              ...                        \n",
       "1494    ilovedsamsungqueenuniqueinstapicprettyfashiong...\n",
       "5418    appleisevidentlyteachingberniesanderssupporter...\n",
       "3116    ahhhalliwanttodoissaveallmyphotosonthecloudsom...\n",
       "4855    fisheyelensthankyouinstaxonlinephlenslikeiphon...\n",
       "2919    buyingphonecasesisabitofanobsessioniphonecases...\n",
       "Name: tweet, Length: 6336, dtype: object"
      ]
     },
     "execution_count": 189,
     "metadata": {},
     "output_type": "execute_result"
    }
   ],
   "source": [
    "X_train"
   ]
  },
  {
   "cell_type": "code",
   "execution_count": 190,
   "id": "d76661a1-e0fe-4b52-8407-79aeac05614e",
   "metadata": {},
   "outputs": [
    {
     "data": {
      "text/plain": [
       "1756         diditellyouihateappleiphonebatterieswellthey\n",
       "6900    jaylinmakingsomesandartkidsfamilybwbwloverblac...\n",
       "3820    fedupwithourolddriversowegotthebestbackseatdri...\n",
       "3823    gainfollowersrtthismustfollowmeifollowbackfoll...\n",
       "5533    mywholefamilyisteamiphoneexceptmeandmymommatea...\n",
       "                              ...                        \n",
       "5067    newphonecoveriphonecaseiphonecasenewprettybrit...\n",
       "1043    pcsexquisitesquishyrandomcharminhttpebaytoyimr...\n",
       "2863    gainfollowersrtthismustfollowmeifollowbackfoll...\n",
       "472     meetsonysnewestemployeesonynewjobsmileselectro...\n",
       "7410    sammendeswon’tdirectthenext…httpdlvritlqkvmzne...\n",
       "Name: tweet, Length: 1584, dtype: object"
      ]
     },
     "execution_count": 190,
     "metadata": {},
     "output_type": "execute_result"
    }
   ],
   "source": [
    "X_test"
   ]
  },
  {
   "cell_type": "markdown",
   "id": "0f7a5cbe-f32a-40d4-97ba-458b49477948",
   "metadata": {},
   "source": [
    "Vectorization"
   ]
  },
  {
   "cell_type": "code",
   "execution_count": 191,
   "id": "9ff4b3c9-cdcd-4a05-b84b-71c6a4bb1ea1",
   "metadata": {},
   "outputs": [],
   "source": [
    "def vectorizer(ds, vocabulary):\n",
    "    vectorized_lst = []\n",
    "\n",
    "    for sentence in ds:\n",
    "        sentence_lst = np.zeros(len(vocabulary))\n",
    "\n",
    "        for i in range(len(vocabulary)):\n",
    "            if vocabulary[i] in sentence.split():\n",
    "                sentence_lst[i] = 1\n",
    "\n",
    "        vectorized_lst.append(sentence_lst)\n",
    "\n",
    "    vectorized_lst_new = np.asarray(vectorized_lst, dtype=np.float32)\n",
    "\n",
    "    return vectorized_lst_new"
   ]
  },
  {
   "cell_type": "code",
   "execution_count": 192,
   "id": "251a26fd-9f53-47e3-ad20-e753330ea239",
   "metadata": {},
   "outputs": [],
   "source": [
    "vectorized_x_train = vectorizer(X_train, tokens)"
   ]
  },
  {
   "cell_type": "code",
   "execution_count": 193,
   "id": "25fa98db-7d4c-4a22-ae21-169416c1678b",
   "metadata": {},
   "outputs": [],
   "source": [
    "vectorized_x_test = vectorizer(X_test, tokens)"
   ]
  },
  {
   "cell_type": "code",
   "execution_count": 194,
   "id": "77b19f9f-c662-4293-bbe9-1f3213eb3476",
   "metadata": {},
   "outputs": [
    {
     "data": {
      "text/plain": [
       "array([[0.],\n",
       "       [0.],\n",
       "       [0.],\n",
       "       ...,\n",
       "       [0.],\n",
       "       [0.],\n",
       "       [0.]], dtype=float32)"
      ]
     },
     "execution_count": 194,
     "metadata": {},
     "output_type": "execute_result"
    }
   ],
   "source": [
    "vectorized_x_train"
   ]
  },
  {
   "cell_type": "code",
   "execution_count": 195,
   "id": "e8bdd18d-0431-4b75-bdbd-3bce780c43bc",
   "metadata": {},
   "outputs": [
    {
     "data": {
      "text/plain": [
       "5953    1\n",
       "849     0\n",
       "1492    1\n",
       "6605    0\n",
       "5115    1\n",
       "       ..\n",
       "1494    0\n",
       "5418    1\n",
       "3116    1\n",
       "4855    0\n",
       "2919    0\n",
       "Name: label, Length: 6336, dtype: int64"
      ]
     },
     "execution_count": 195,
     "metadata": {},
     "output_type": "execute_result"
    }
   ],
   "source": [
    "y_train"
   ]
  },
  {
   "cell_type": "code",
   "execution_count": 196,
   "id": "ea532f68-4b19-49da-a01a-69c426ba7739",
   "metadata": {},
   "outputs": [
    {
     "data": {
      "text/plain": [
       "array([[0.],\n",
       "       [0.],\n",
       "       [0.],\n",
       "       ...,\n",
       "       [0.],\n",
       "       [0.],\n",
       "       [0.]], dtype=float32)"
      ]
     },
     "execution_count": 196,
     "metadata": {},
     "output_type": "execute_result"
    }
   ],
   "source": [
    "vectorized_x_test"
   ]
  },
  {
   "cell_type": "code",
   "execution_count": 197,
   "id": "583d6dc6-b9cb-4e5d-b93b-6210efeb448d",
   "metadata": {},
   "outputs": [
    {
     "data": {
      "text/plain": [
       "1756    1\n",
       "6900    0\n",
       "3820    0\n",
       "3823    0\n",
       "5533    0\n",
       "       ..\n",
       "5067    0\n",
       "1043    0\n",
       "2863    0\n",
       "472     0\n",
       "7410    0\n",
       "Name: label, Length: 1584, dtype: int64"
      ]
     },
     "execution_count": 197,
     "metadata": {},
     "output_type": "execute_result"
    }
   ],
   "source": [
    "y_test"
   ]
  },
  {
   "cell_type": "code",
   "execution_count": 198,
   "id": "8021321a-b1bc-42b9-a43c-cfce20815bfd",
   "metadata": {},
   "outputs": [
    {
     "data": {
      "text/plain": [
       "label\n",
       "0    4722\n",
       "1    1614\n",
       "Name: count, dtype: int64"
      ]
     },
     "execution_count": 198,
     "metadata": {},
     "output_type": "execute_result"
    }
   ],
   "source": [
    "y_train.value_counts()"
   ]
  },
  {
   "cell_type": "code",
   "execution_count": 199,
   "id": "2cfe2bd4-c3da-4e2f-bb38-214a111e0766",
   "metadata": {},
   "outputs": [
    {
     "data": {
      "image/png": "[encoded data removed]",
      "text/plain": [
       "<Figure size 640x480 with 1 Axes>"
      ]
     },
     "metadata": {},
     "output_type": "display_data"
    }
   ],
   "source": [
    "plt.pie(np.array([y_train.value_counts()[0], y_train.value_counts()[1]]),labels=['Possitive', 'Negative'])\n",
    "plt.show()"
   ]
  },
  {
   "cell_type": "markdown",
   "id": "f02011a1-2646-48cd-860d-c14bc3577ccc",
   "metadata": {},
   "source": [
    "Handle imbalanced dataset"
   ]
  },
  {
   "cell_type": "code",
   "execution_count": 200,
   "id": "bab4b08d-a3e7-4dd9-bff9-bc452908a5a5",
   "metadata": {},
   "outputs": [
    {
     "name": "stdout",
     "output_type": "stream",
     "text": [
      "(9444, 1) (9444,)\n"
     ]
    },
    {
     "name": "stderr",
     "output_type": "stream",
     "text": [
      "/Users/kavindu/Desktop/sentiment_analysis_project/env/lib/python3.12/site-packages/sklearn/base.py:474: FutureWarning: `BaseEstimator._validate_data` is deprecated in 1.6 and will be removed in 1.7. Use `sklearn.utils.validation.validate_data` instead. This function becomes public and is part of the scikit-learn developer API.\n",
      "  warnings.warn(\n",
      "/Users/kavindu/Desktop/sentiment_analysis_project/env/lib/python3.12/site-packages/sklearn/utils/_tags.py:354: FutureWarning: The SMOTE or classes from which it inherits use `_get_tags` and `_more_tags`. Please define the `__sklearn_tags__` method, or inherit from `sklearn.base.BaseEstimator` and/or other appropriate mixins such as `sklearn.base.TransformerMixin`, `sklearn.base.ClassifierMixin`, `sklearn.base.RegressorMixin`, and `sklearn.base.OutlierMixin`. From scikit-learn 1.7, not defining `__sklearn_tags__` will raise an error.\n",
      "  warnings.warn(\n"
     ]
    }
   ],
   "source": [
    "from imblearn.over_sampling import SMOTE\n",
    "smote = SMOTE()\n",
    "vectorized_x_train_smote, y_train_smote = smote.fit_resample(vectorized_x_train, y_train)\n",
    "print(vectorized_x_train_smote.shape, y_train_smote.shape)"
   ]
  },
  {
   "cell_type": "code",
   "execution_count": 201,
   "id": "7f10a4d1-c98d-40b5-9f2f-e042293d1c2b",
   "metadata": {},
   "outputs": [
    {
     "name": "stdout",
     "output_type": "stream",
     "text": [
      "Requirement already satisfied: imbalanced.learn in /Users/kavindu/Desktop/sentiment_analysis_project/env/lib/python3.12/site-packages (0.12.4)\n",
      "Requirement already satisfied: numpy>=1.17.3 in /Users/kavindu/Desktop/sentiment_analysis_project/env/lib/python3.12/site-packages (from imbalanced.learn) (2.1.3)\n",
      "Requirement already satisfied: scipy>=1.5.0 in /Users/kavindu/Desktop/sentiment_analysis_project/env/lib/python3.12/site-packages (from imbalanced.learn) (1.14.1)\n",
      "Requirement already satisfied: scikit-learn>=1.0.2 in /Users/kavindu/Desktop/sentiment_analysis_project/env/lib/python3.12/site-packages (from imbalanced.learn) (1.6.0)\n",
      "Requirement already satisfied: joblib>=1.1.1 in /Users/kavindu/Desktop/sentiment_analysis_project/env/lib/python3.12/site-packages (from imbalanced.learn) (1.4.2)\n",
      "Requirement already satisfied: threadpoolctl>=2.0.0 in /Users/kavindu/Desktop/sentiment_analysis_project/env/lib/python3.12/site-packages (from imbalanced.learn) (3.5.0)\n"
     ]
    }
   ],
   "source": [
    "!pip install imbalanced.learn"
   ]
  },
  {
   "cell_type": "code",
   "execution_count": 202,
   "id": "cf3d03d9-7154-4de5-a5db-a3443bde2784",
   "metadata": {},
   "outputs": [
    {
     "data": {
      "text/plain": [
       "label\n",
       "1    4722\n",
       "0    4722\n",
       "Name: count, dtype: int64"
      ]
     },
     "execution_count": 202,
     "metadata": {},
     "output_type": "execute_result"
    }
   ],
   "source": [
    "y_train_smote.value_counts()"
   ]
  },
  {
   "cell_type": "code",
   "execution_count": 203,
   "id": "b40f6542-0662-455c-b6f4-0284c05d2578",
   "metadata": {},
   "outputs": [
    {
     "data": {
      "image/png": "[encoded data removed]",
      "text/plain": [
       "<Figure size 640x480 with 1 Axes>"
      ]
     },
     "metadata": {},
     "output_type": "display_data"
    }
   ],
   "source": [
    "plt.pie(np.array([y_train_smote.value_counts()[0], y_train_smote.value_counts()[1]]),labels=['Possitive', 'Negative'])\n",
    "plt.show()"
   ]
  },
  {
   "cell_type": "code",
   "execution_count": 204,
   "id": "834dc1b4-c09c-41a1-8db6-c52871353484",
   "metadata": {},
   "outputs": [
    {
     "data": {
      "text/plain": [
       "array([[0.],\n",
       "       [0.],\n",
       "       [0.],\n",
       "       ...,\n",
       "       [0.],\n",
       "       [0.],\n",
       "       [0.]], dtype=float32)"
      ]
     },
     "execution_count": 204,
     "metadata": {},
     "output_type": "execute_result"
    }
   ],
   "source": [
    "vectorized_x_train_smote"
   ]
  },
  {
   "cell_type": "code",
   "execution_count": 205,
   "id": "f91f0eef-b3fd-449e-aaa0-b2a6940e1fe5",
   "metadata": {},
   "outputs": [
    {
     "data": {
      "text/plain": [
       "0       1\n",
       "1       0\n",
       "2       1\n",
       "3       0\n",
       "4       1\n",
       "       ..\n",
       "9439    1\n",
       "9440    1\n",
       "9441    1\n",
       "9442    1\n",
       "9443    1\n",
       "Name: label, Length: 9444, dtype: int64"
      ]
     },
     "execution_count": 205,
     "metadata": {},
     "output_type": "execute_result"
    }
   ],
   "source": [
    "y_train_smote"
   ]
  },
  {
   "cell_type": "code",
   "execution_count": 206,
   "id": "40b68bd2-dd4f-4fcd-9c32-2a2b670062c7",
   "metadata": {},
   "outputs": [
    {
     "data": {
      "text/plain": [
       "array([[0.],\n",
       "       [0.],\n",
       "       [0.],\n",
       "       ...,\n",
       "       [0.],\n",
       "       [0.],\n",
       "       [0.]], dtype=float32)"
      ]
     },
     "execution_count": 206,
     "metadata": {},
     "output_type": "execute_result"
    }
   ],
   "source": [
    "vectorized_x_test"
   ]
  },
  {
   "cell_type": "code",
   "execution_count": 207,
   "id": "173d5674-5e64-44e2-bb6e-47e849a815f2",
   "metadata": {},
   "outputs": [
    {
     "data": {
      "text/plain": [
       "1756    1\n",
       "6900    0\n",
       "3820    0\n",
       "3823    0\n",
       "5533    0\n",
       "       ..\n",
       "5067    0\n",
       "1043    0\n",
       "2863    0\n",
       "472     0\n",
       "7410    0\n",
       "Name: label, Length: 1584, dtype: int64"
      ]
     },
     "execution_count": 207,
     "metadata": {},
     "output_type": "execute_result"
    }
   ],
   "source": [
    "y_test"
   ]
  },
  {
   "cell_type": "markdown",
   "id": "3a20220e-bded-4780-b94e-ec6cf542ecd7",
   "metadata": {},
   "source": [
    "end of prepossesing"
   ]
  },
  {
   "cell_type": "markdown",
   "id": "c74a5377-d54f-4d91-9373-de802c4c90e9",
   "metadata": {},
   "source": [
    "Model traonong and evoluation"
   ]
  },
  {
   "cell_type": "code",
   "execution_count": 208,
   "id": "105fc89f-e575-41b8-83e1-82eb4a93244b",
   "metadata": {},
   "outputs": [],
   "source": [
    "from sklearn.linear_model import LogisticRegression\n",
    "from sklearn.naive_bayes import MultinomialNB\n",
    "from sklearn.tree import DecisionTreeClassifier\n",
    "from sklearn.ensemble import RandomForestClassifier\n",
    "from sklearn.svm import SVC\n",
    "\n",
    "from sklearn.model_selection import train_test_split\n",
    "from sklearn.metrics import accuracy_score, f1_score, precision_score, recall_score"
   ]
  },
  {
   "cell_type": "code",
   "execution_count": 209,
   "id": "32985381-12f5-45e4-9901-f5ca97fd5efa",
   "metadata": {},
   "outputs": [],
   "source": [
    "def training_scores(y_act, y_pred):\n",
    "    # Calculate the training scores\n",
    "    acc = round(accuracy_score(y_act, y_pred), 3)\n",
    "    pr = round(precision_score(y_act, y_pred), 3)\n",
    "    rec = round(recall_score(y_act, y_pred), 3)\n",
    "    f1 = round(f1_score(y_act, y_pred), 3)\n",
    "    print(f'Training Scores:\\n\\tAccuracy = {acc}\\n\\tPrecision = {pr}\\n\\tRecall = {rec}\\n\\tF1-Score = {f1}')\n",
    "\n",
    "def validation_scores(y_act, y_pred):\n",
    "    # Calculate the validation scores\n",
    "    acc = round(accuracy_score(y_act, y_pred), 3)\n",
    "    pr = round(precision_score(y_act, y_pred), 3)\n",
    "    rec = round(recall_score(y_act, y_pred), 3)\n",
    "    f1 = round(f1_score(y_act, y_pred), 3)\n",
    "    print(f'Testing Scores:\\n\\tAccuracy = {acc}\\n\\tPrecision = {pr}\\n\\tRecall = {rec}\\n\\tF1-Score = {f1}')"
   ]
  },
  {
   "cell_type": "markdown",
   "id": "160e5b8d-2c9a-474b-9ab3-198e9cfc8737",
   "metadata": {},
   "source": [
    "Logistic regression"
   ]
  },
  {
   "cell_type": "code",
   "execution_count": 210,
   "id": "ea88338a-8f80-4c09-a7b1-35cad3ecaa23",
   "metadata": {},
   "outputs": [
    {
     "name": "stdout",
     "output_type": "stream",
     "text": [
      "Training Scores:\n",
      "\tAccuracy = 0.501\n",
      "\tPrecision = 0.5\n",
      "\tRecall = 1.0\n",
      "\tF1-Score = 0.667\n",
      "Testing Scores:\n",
      "\tAccuracy = 0.261\n",
      "\tPrecision = 0.26\n",
      "\tRecall = 1.0\n",
      "\tF1-Score = 0.413\n"
     ]
    }
   ],
   "source": [
    "lr = LogisticRegression()\n",
    "lr.fit(vectorized_x_train_smote, y_train_smote)\n",
    "\n",
    "y_train_pred=lr.predict(vectorized_x_train_smote)\n",
    "\n",
    "y_test_pred=lr.predict(vectorized_x_test)\n",
    "\n",
    "training_scores(y_train_smote,y_train_pred)\n",
    "\n",
    "validation_scores(y_test,y_test_pred)"
   ]
  },
  {
   "cell_type": "markdown",
   "id": "567ea36e-4347-4529-b1d5-4a61595992a6",
   "metadata": {},
   "source": [
    "Nalve Bayes"
   ]
  },
  {
   "cell_type": "code",
   "execution_count": 211,
   "id": "8d30a76d-df0e-4868-a00d-3f1f4dab0d91",
   "metadata": {},
   "outputs": [
    {
     "name": "stdout",
     "output_type": "stream",
     "text": [
      "Training Scores:\n",
      "\tAccuracy = 0.5\n",
      "\tPrecision = 0.0\n",
      "\tRecall = 0.0\n",
      "\tF1-Score = 0.0\n",
      "Testing Scores:\n",
      "\tAccuracy = 0.74\n",
      "\tPrecision = 0.0\n",
      "\tRecall = 0.0\n",
      "\tF1-Score = 0.0\n"
     ]
    },
    {
     "name": "stderr",
     "output_type": "stream",
     "text": [
      "/Users/kavindu/Desktop/sentiment_analysis_project/env/lib/python3.12/site-packages/sklearn/metrics/_classification.py:1565: UndefinedMetricWarning: Precision is ill-defined and being set to 0.0 due to no predicted samples. Use `zero_division` parameter to control this behavior.\n",
      "  _warn_prf(average, modifier, f\"{metric.capitalize()} is\", len(result))\n",
      "/Users/kavindu/Desktop/sentiment_analysis_project/env/lib/python3.12/site-packages/sklearn/metrics/_classification.py:1565: UndefinedMetricWarning: Precision is ill-defined and being set to 0.0 due to no predicted samples. Use `zero_division` parameter to control this behavior.\n",
      "  _warn_prf(average, modifier, f\"{metric.capitalize()} is\", len(result))\n"
     ]
    }
   ],
   "source": [
    "mnb = MultinomialNB()\n",
    "mnb.fit(vectorized_x_train_smote, y_train_smote)\n",
    "\n",
    "y_train_pred=mnb.predict(vectorized_x_train_smote)\n",
    "\n",
    "y_test_pred=mnb.predict(vectorized_x_test)\n",
    "\n",
    "training_scores(y_train_smote,y_train_pred)\n",
    "\n",
    "validation_scores(y_test,y_test_pred)"
   ]
  },
  {
   "cell_type": "markdown",
   "id": "e56ba345-5b57-4aa2-956e-b2204fe4467a",
   "metadata": {},
   "source": [
    "Decision tree"
   ]
  },
  {
   "cell_type": "code",
   "execution_count": 212,
   "id": "9258e222-6342-4332-b5e0-b3b3e0b126f1",
   "metadata": {},
   "outputs": [
    {
     "name": "stdout",
     "output_type": "stream",
     "text": [
      "Training Scores:\n",
      "\tAccuracy = 0.501\n",
      "\tPrecision = 0.5\n",
      "\tRecall = 1.0\n",
      "\tF1-Score = 0.667\n",
      "Testing Scores:\n",
      "\tAccuracy = 0.261\n",
      "\tPrecision = 0.26\n",
      "\tRecall = 1.0\n",
      "\tF1-Score = 0.413\n"
     ]
    }
   ],
   "source": [
    "dt = DecisionTreeClassifier()\n",
    "\n",
    "dt.fit(vectorized_x_train_smote, y_train_smote)\n",
    "\n",
    "y_train_pred=dt.predict(vectorized_x_train_smote)\n",
    "\n",
    "y_test_pred=dt.predict(vectorized_x_test)\n",
    "\n",
    "training_scores(y_train_smote,y_train_pred)\n",
    "\n",
    "validation_scores(y_test,y_test_pred)"
   ]
  },
  {
   "cell_type": "markdown",
   "id": "bd258b9c-34f4-4365-b25d-39026dd13e83",
   "metadata": {},
   "source": [
    "Random Forest"
   ]
  },
  {
   "cell_type": "code",
   "execution_count": 214,
   "id": "cc9b291f-1ac6-42a3-b27b-8b1b346220c1",
   "metadata": {},
   "outputs": [
    {
     "name": "stdout",
     "output_type": "stream",
     "text": [
      "Training Scores:\n",
      "\tAccuracy = 0.501\n",
      "\tPrecision = 0.5\n",
      "\tRecall = 1.0\n",
      "\tF1-Score = 0.667\n",
      "Testing Scores:\n",
      "\tAccuracy = 0.261\n",
      "\tPrecision = 0.26\n",
      "\tRecall = 1.0\n",
      "\tF1-Score = 0.413\n"
     ]
    }
   ],
   "source": [
    "rf = RandomForestClassifier()\n",
    "\n",
    "rf.fit(vectorized_x_train_smote, y_train_smote)\n",
    "\n",
    "y_train_pred=rf.predict(vectorized_x_train_smote)\n",
    "\n",
    "y_test_pred=rf.predict(vectorized_x_test)\n",
    "\n",
    "training_scores(y_train_smote,y_train_pred)\n",
    "\n",
    "validation_scores(y_test,y_test_pred)"
   ]
  },
  {
   "cell_type": "markdown",
   "id": "11f62f4b-e03b-4cd4-8a63-c311820e27b6",
   "metadata": {},
   "source": [
    "Support Vector Machine"
   ]
  },
  {
   "cell_type": "code",
   "execution_count": 217,
   "id": "2a6b2459-b583-443f-bdf3-450b5de2c250",
   "metadata": {},
   "outputs": [
    {
     "name": "stdout",
     "output_type": "stream",
     "text": [
      "Training Scores:\n",
      "\tAccuracy = 0.501\n",
      "\tPrecision = 0.5\n",
      "\tRecall = 1.0\n",
      "\tF1-Score = 0.667\n",
      "Testing Scores:\n",
      "\tAccuracy = 0.261\n",
      "\tPrecision = 0.26\n",
      "\tRecall = 1.0\n",
      "\tF1-Score = 0.413\n"
     ]
    }
   ],
   "source": [
    "svm = SVC()\n",
    "\n",
    "svm.fit(vectorized_x_train_smote, y_train_smote)\n",
    "\n",
    "y_train_pred=svm.predict(vectorized_x_train_smote)\n",
    "\n",
    "y_test_pred=svm.predict(vectorized_x_test)\n",
    "\n",
    "training_scores(y_train_smote,y_train_pred)\n",
    "\n",
    "validation_scores(y_test,y_test_pred)"
   ]
  },
  {
   "cell_type": "code",
   "execution_count": 218,
   "id": "62f73000-ec87-4e01-b940-858a5eb38ab7",
   "metadata": {},
   "outputs": [],
   "source": [
    "import pickle\n",
    "\n",
    "with open('../static/model/model.pickle', 'wb') as file:\n",
    "    pickle.dump(lr, file)"
   ]
  },
  {
   "cell_type": "code",
   "execution_count": null,
   "id": "50db448e-83a0-4578-8b1f-b4bab5d4e38c",
   "metadata": {},
   "outputs": [],
   "source": []
  }
 ],
 "metadata": {
  "kernelspec": {
   "display_name": "Python 3 (ipykernel)",
   "language": "python",
   "name": "python3"
  },
  "language_info": {
   "codemirror_mode": {
    "name": "ipython",
    "version": 3
   },
   "file_extension": ".py",
   "mimetype": "text/x-python",
   "name": "python",
   "nbconvert_exporter": "python",
   "pygments_lexer": "ipython3",
   "version": "3.12.4"
  }
 },
 "nbformat": 4,
 "nbformat_minor": 5
}
